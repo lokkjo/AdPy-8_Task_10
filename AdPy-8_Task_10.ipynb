{
 "cells": [
  {
   "cell_type": "markdown",
   "metadata": {},
   "source": [
    "# Домашнее задание к лекции 2.5 «Инструменты для оперативной работы с данными»\n",
    "\n",
    "Решение выполнения задач необходимо предоставить в виде ссылки на файл формата Jupyter (ipynb) в GitHub.\n",
    "\n",
    "В файле должны быть сохранены результаты запуска на тестовых данных.\n",
    "\n",
    "Дано: данные о популярности имен для новорожденных, скачиваются по [ссылке](https://www.ssa.gov/oact/babynames/names.zip). Добавлять исходные данные в репозиторий с выполненным заданием необязательно, но в блокноте необходимо выделить путь к файлам в отдельную переменную, которую легко поменять.\n",
    "\n",
    "## Задача №1\n",
    "С использованием Pandas написать функцию, которая загружает указанные года и выводит ТОП-3 популярных имен. Например:\n",
    "\n",
    "```python    \n",
    "count_top3([1880]) == ['John', 'William', 'Mary']\n",
    "count_top3([1900, 1950, 2000]) == ['James', 'John', 'Robert']\n",
    "```      \n",
    "    \n",
    "## Задача №2\n",
    "С использованием Pandas написать функцию, которая возвращает динамику изменения количества имен за указанные года в разрезе полов. Например:\n",
    "\n",
    "```python      \n",
    "count_dynamics([1900, 1950, 2000]) == {\n",
    "  'F': [299810, 1713259, 1814922],\n",
    "  'M': [150486, 1790871, 1962744]\n",
    "}\n",
    "```\n",
    "\n",
    "---\n",
    "Домашнее задание сдается ссылкой на репозиторий [BitBucket](https://bitbucket.org/) или [GitHub](https://github.com/)\n",
    "\n",
    "Не сможем проверить или помочь, если вы пришлете:\n",
    "* архивы;\n",
    "* скриншоты кода;\n",
    "* теоретический рассказ о возникших проблемах.    "
   ]
  },
  {
   "cell_type": "code",
   "execution_count": 1,
   "metadata": {},
   "outputs": [],
   "source": [
    "import pandas as pd"
   ]
  },
  {
   "cell_type": "code",
   "execution_count": 2,
   "metadata": {},
   "outputs": [],
   "source": [
    "# Функция для подхватывания файлов из папки\n",
    "\n",
    "def csv_to_df(year: str):\n",
    "    file_path='names/'\n",
    "    full_path = f'{file_path}yob{year}.txt'\n",
    "#     print(full_path)\n",
    "    df = pd.read_csv(full_path, names = ['Names', 'Gender', 'Count'])\n",
    "    return df"
   ]
  },
  {
   "cell_type": "code",
   "execution_count": 3,
   "metadata": {},
   "outputs": [],
   "source": [
    "# Решение задачи № 1\n",
    "\n",
    "def count_top3(data_series: list):\n",
    "    col_names = ['Names', 'Gender', 'Count']\n",
    "    df = pd.DataFrame(columns = col_names)\n",
    "    for year in data_series:\n",
    "        df = df.append(csv_to_df(year), ignore_index = True)\n",
    "    res = df.sort_values('Count', ascending=False).head(3)\n",
    "    return list(res['Names'])"
   ]
  },
  {
   "cell_type": "code",
   "execution_count": 4,
   "metadata": {},
   "outputs": [
    {
     "data": {
      "text/plain": [
       "['John', 'William', 'Mary']"
      ]
     },
     "execution_count": 4,
     "metadata": {},
     "output_type": "execute_result"
    }
   ],
   "source": [
    "count_top3([1880])"
   ]
  },
  {
   "cell_type": "code",
   "execution_count": 5,
   "metadata": {},
   "outputs": [
    {
     "data": {
      "text/plain": [
       "['James', 'Robert', 'Linda']"
      ]
     },
     "execution_count": 5,
     "metadata": {},
     "output_type": "execute_result"
    }
   ],
   "source": [
    "count_top3([1900, 1950, 2000])"
   ]
  },
  {
   "cell_type": "code",
   "execution_count": 6,
   "metadata": {},
   "outputs": [],
   "source": [
    "# Решение задачи № 2\n",
    "\n",
    "def count_dynamics(data_series: list):\n",
    "    res = {'F': [],'M': []}\n",
    "    for year in data_series:\n",
    "        df = csv_to_df(year)\n",
    "        f_counts = df[df['Gender'] == 'F']['Count'].sum()\n",
    "        m_counts = df[df['Gender'] == 'M']['Count'].sum()\n",
    "        res['F'].append(f_counts)\n",
    "        res['M'].append(m_counts)\n",
    "    return res\n",
    "        "
   ]
  },
  {
   "cell_type": "code",
   "execution_count": 7,
   "metadata": {},
   "outputs": [
    {
     "data": {
      "text/plain": [
       "{'F': [299798, 1713065, 1815295], 'M': [150480, 1790437, 1963202]}"
      ]
     },
     "execution_count": 7,
     "metadata": {},
     "output_type": "execute_result"
    }
   ],
   "source": [
    "count_dynamics([1900, 1950, 2000])"
   ]
  },
  {
   "cell_type": "code",
   "execution_count": null,
   "metadata": {},
   "outputs": [],
   "source": []
  }
 ],
 "metadata": {
  "kernelspec": {
   "display_name": "Python 3",
   "language": "python",
   "name": "python3"
  },
  "language_info": {
   "codemirror_mode": {
    "name": "ipython",
    "version": 3
   },
   "file_extension": ".py",
   "mimetype": "text/x-python",
   "name": "python",
   "nbconvert_exporter": "python",
   "pygments_lexer": "ipython3",
   "version": "3.7.4"
  }
 },
 "nbformat": 4,
 "nbformat_minor": 2
}
